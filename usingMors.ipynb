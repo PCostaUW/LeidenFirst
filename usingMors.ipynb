{
 "cells": [
  {
   "cell_type": "markdown",
   "id": "a5a8010b-f308-4d79-8090-94122ab619d1",
   "metadata": {},
   "source": [
    "# "
   ]
  },
  {
   "cell_type": "code",
   "execution_count": 10,
   "id": "55c2588f-edcc-46c1-89ac-4e3ed349553d",
   "metadata": {},
   "outputs": [],
   "source": [
    "import Mors as mors\n",
    "import numpy as np\n",
    "import matplotlib.pyplot as plt\n",
    "import pandas as pd\n",
    "from astropy.constants import L_sun"
   ]
  },
  {
   "cell_type": "code",
   "execution_count": 2,
   "id": "c9dd4ec6-92cf-428e-9856-8fbbca7dcf87",
   "metadata": {},
   "outputs": [
    {
     "name": "stdout",
     "output_type": "stream",
     "text": [
      "0.9160515156402553\n",
      "1.1927661072321143\n",
      "1.212077617068949\n",
      "2.042269210765802\n",
      "2.1356631390498344\n",
      "1.6271734139173755\n"
     ]
    }
   ],
   "source": [
    "#just testing to see if I have set the path to the stellar evolution data correctly, it seems i have\n",
    "aOrbHZ = mors.aOrbHZ(Mstar=1.05)\n",
    "print(aOrbHZ['RecentVenus'])\n",
    "print(aOrbHZ['RunawayGreenhouse'])\n",
    "print(aOrbHZ['MoistGreenhouse'])\n",
    "print(aOrbHZ['MaximumGreenhouse'])\n",
    "print(aOrbHZ['EarlyMars'])\n",
    "print(aOrbHZ['HZ'])"
   ]
  },
  {
   "cell_type": "code",
   "execution_count": 3,
   "id": "74dcd5ef-3aa8-4197-8f40-62f9559c01d9",
   "metadata": {},
   "outputs": [
    {
     "name": "stderr",
     "output_type": "stream",
     "text": [
      "/tmp/ipykernel_65030/2383421779.py:3: ParserWarning: Falling back to the 'python' engine because the 'c' engine does not support sep=None with delim_whitespace=False; you can avoid this warning by specifying engine='python'.\n",
      "  data = pd.read_csv('fs255_grid/X0p67336_Z0p03090_A0p500/001Gyr_X0p67336_Z0p03090_A0p500.iso1',names=cols,header=0,skipinitialspace=True,sep=None)\n"
     ]
    }
   ],
   "source": [
    "#create a habitable zone plot similar to the one i made last week\n",
    "cols = ['mass','teff','log(lum)','log(g)','mv','ub','bv','vi','vk','ri','ik','jh','hk']\n",
    "data = pd.read_csv('fs255_grid/X0p67336_Z0p03090_A0p500/001Gyr_X0p67336_Z0p03090_A0p500.iso1',names=cols,header=0,skipinitialspace=True,sep=None)\n",
    "data = data.drop([0])\n",
    "for i,row in enumerate(data.iterrows()):\n",
    "    if data['teff'][i+1] < 3700:\n",
    "        data['teff'][i+1] = 3700\n",
    "\n",
    "data['lum'] = 10**data['log(lum)']\n",
    "data = data.drop(data.index[-1])"
   ]
  },
  {
   "cell_type": "code",
   "execution_count": 4,
   "id": "363c0708-d583-4eb0-9ee3-8fae6069d451",
   "metadata": {},
   "outputs": [
    {
     "data": {
      "text/html": [
       "<div>\n",
       "<style scoped>\n",
       "    .dataframe tbody tr th:only-of-type {\n",
       "        vertical-align: middle;\n",
       "    }\n",
       "\n",
       "    .dataframe tbody tr th {\n",
       "        vertical-align: top;\n",
       "    }\n",
       "\n",
       "    .dataframe thead th {\n",
       "        text-align: right;\n",
       "    }\n",
       "</style>\n",
       "<table border=\"1\" class=\"dataframe\">\n",
       "  <thead>\n",
       "    <tr style=\"text-align: right;\">\n",
       "      <th></th>\n",
       "      <th>mass</th>\n",
       "      <th>teff</th>\n",
       "      <th>log(lum)</th>\n",
       "      <th>log(g)</th>\n",
       "      <th>mv</th>\n",
       "      <th>ub</th>\n",
       "      <th>bv</th>\n",
       "      <th>vi</th>\n",
       "      <th>vk</th>\n",
       "      <th>ri</th>\n",
       "      <th>ik</th>\n",
       "      <th>jh</th>\n",
       "      <th>hk</th>\n",
       "      <th>lum</th>\n",
       "    </tr>\n",
       "  </thead>\n",
       "  <tbody>\n",
       "    <tr>\n",
       "      <th>1</th>\n",
       "      <td>0.15</td>\n",
       "      <td>3700.00000</td>\n",
       "      <td>-2.50758</td>\n",
       "      <td>5.13190</td>\n",
       "      <td>13.37927</td>\n",
       "      <td>1.26888</td>\n",
       "      <td>1.59147</td>\n",
       "      <td>2.64917</td>\n",
       "      <td>4.93210</td>\n",
       "      <td>1.47520</td>\n",
       "      <td>2.27834</td>\n",
       "      <td>0.61765</td>\n",
       "      <td>0.24875</td>\n",
       "      <td>0.003108</td>\n",
       "    </tr>\n",
       "    <tr>\n",
       "      <th>2</th>\n",
       "      <td>0.20</td>\n",
       "      <td>3700.00000</td>\n",
       "      <td>-2.33043</td>\n",
       "      <td>5.02720</td>\n",
       "      <td>13.33016</td>\n",
       "      <td>1.36078</td>\n",
       "      <td>1.54930</td>\n",
       "      <td>2.81412</td>\n",
       "      <td>5.36916</td>\n",
       "      <td>1.52588</td>\n",
       "      <td>2.54990</td>\n",
       "      <td>0.59053</td>\n",
       "      <td>0.26863</td>\n",
       "      <td>0.004673</td>\n",
       "    </tr>\n",
       "    <tr>\n",
       "      <th>3</th>\n",
       "      <td>0.25</td>\n",
       "      <td>3700.00000</td>\n",
       "      <td>-2.17648</td>\n",
       "      <td>4.98251</td>\n",
       "      <td>12.89453</td>\n",
       "      <td>1.33904</td>\n",
       "      <td>1.52182</td>\n",
       "      <td>2.77416</td>\n",
       "      <td>5.31194</td>\n",
       "      <td>1.50521</td>\n",
       "      <td>2.53271</td>\n",
       "      <td>0.59672</td>\n",
       "      <td>0.25890</td>\n",
       "      <td>0.006661</td>\n",
       "    </tr>\n",
       "    <tr>\n",
       "      <th>4</th>\n",
       "      <td>0.30</td>\n",
       "      <td>3700.00000</td>\n",
       "      <td>-2.05084</td>\n",
       "      <td>4.94768</td>\n",
       "      <td>12.54398</td>\n",
       "      <td>1.31935</td>\n",
       "      <td>1.50046</td>\n",
       "      <td>2.74262</td>\n",
       "      <td>5.27127</td>\n",
       "      <td>1.48723</td>\n",
       "      <td>2.52357</td>\n",
       "      <td>0.60496</td>\n",
       "      <td>0.24987</td>\n",
       "      <td>0.008895</td>\n",
       "    </tr>\n",
       "    <tr>\n",
       "      <th>5</th>\n",
       "      <td>0.35</td>\n",
       "      <td>3700.00000</td>\n",
       "      <td>-1.92132</td>\n",
       "      <td>4.89395</td>\n",
       "      <td>12.20623</td>\n",
       "      <td>1.30716</td>\n",
       "      <td>1.48693</td>\n",
       "      <td>2.72308</td>\n",
       "      <td>5.25719</td>\n",
       "      <td>1.47471</td>\n",
       "      <td>2.52899</td>\n",
       "      <td>0.61482</td>\n",
       "      <td>0.24099</td>\n",
       "      <td>0.011986</td>\n",
       "    </tr>\n",
       "    <tr>\n",
       "      <th>6</th>\n",
       "      <td>0.40</td>\n",
       "      <td>3700.00000</td>\n",
       "      <td>-1.81163</td>\n",
       "      <td>4.85620</td>\n",
       "      <td>11.88848</td>\n",
       "      <td>1.28694</td>\n",
       "      <td>1.46607</td>\n",
       "      <td>2.68554</td>\n",
       "      <td>5.20918</td>\n",
       "      <td>1.45224</td>\n",
       "      <td>2.51857</td>\n",
       "      <td>0.62568</td>\n",
       "      <td>0.23073</td>\n",
       "      <td>0.015430</td>\n",
       "    </tr>\n",
       "    <tr>\n",
       "      <th>7</th>\n",
       "      <td>0.45</td>\n",
       "      <td>3700.00000</td>\n",
       "      <td>-1.69445</td>\n",
       "      <td>4.80752</td>\n",
       "      <td>11.54081</td>\n",
       "      <td>1.26360</td>\n",
       "      <td>1.44091</td>\n",
       "      <td>2.63802</td>\n",
       "      <td>5.14922</td>\n",
       "      <td>1.42397</td>\n",
       "      <td>2.50627</td>\n",
       "      <td>0.63994</td>\n",
       "      <td>0.21751</td>\n",
       "      <td>0.020209</td>\n",
       "    </tr>\n",
       "    <tr>\n",
       "      <th>8</th>\n",
       "      <td>0.50</td>\n",
       "      <td>3700.00000</td>\n",
       "      <td>-1.56913</td>\n",
       "      <td>4.75004</td>\n",
       "      <td>11.15398</td>\n",
       "      <td>1.23620</td>\n",
       "      <td>1.41003</td>\n",
       "      <td>2.57549</td>\n",
       "      <td>5.06889</td>\n",
       "      <td>1.38718</td>\n",
       "      <td>2.48878</td>\n",
       "      <td>0.65846</td>\n",
       "      <td>0.20060</td>\n",
       "      <td>0.026969</td>\n",
       "    </tr>\n",
       "    <tr>\n",
       "      <th>9</th>\n",
       "      <td>0.55</td>\n",
       "      <td>3700.00000</td>\n",
       "      <td>-1.43774</td>\n",
       "      <td>4.68802</td>\n",
       "      <td>10.66549</td>\n",
       "      <td>1.18648</td>\n",
       "      <td>1.39344</td>\n",
       "      <td>2.45966</td>\n",
       "      <td>4.87353</td>\n",
       "      <td>1.32990</td>\n",
       "      <td>2.40934</td>\n",
       "      <td>0.66911</td>\n",
       "      <td>0.18871</td>\n",
       "      <td>0.036497</td>\n",
       "    </tr>\n",
       "    <tr>\n",
       "      <th>10</th>\n",
       "      <td>0.60</td>\n",
       "      <td>3700.00000</td>\n",
       "      <td>-1.30053</td>\n",
       "      <td>4.62590</td>\n",
       "      <td>10.04176</td>\n",
       "      <td>1.09540</td>\n",
       "      <td>1.37908</td>\n",
       "      <td>2.27114</td>\n",
       "      <td>4.52312</td>\n",
       "      <td>1.24437</td>\n",
       "      <td>2.24718</td>\n",
       "      <td>0.66983</td>\n",
       "      <td>0.18379</td>\n",
       "      <td>0.050058</td>\n",
       "    </tr>\n",
       "    <tr>\n",
       "      <th>11</th>\n",
       "      <td>0.65</td>\n",
       "      <td>3700.00000</td>\n",
       "      <td>-1.16126</td>\n",
       "      <td>4.56669</td>\n",
       "      <td>9.45927</td>\n",
       "      <td>1.08084</td>\n",
       "      <td>1.36641</td>\n",
       "      <td>2.09966</td>\n",
       "      <td>4.24161</td>\n",
       "      <td>1.15362</td>\n",
       "      <td>2.13695</td>\n",
       "      <td>0.67948</td>\n",
       "      <td>0.17386</td>\n",
       "      <td>0.068983</td>\n",
       "    </tr>\n",
       "    <tr>\n",
       "      <th>12</th>\n",
       "      <td>0.70</td>\n",
       "      <td>3700.00000</td>\n",
       "      <td>-1.03597</td>\n",
       "      <td>4.52040</td>\n",
       "      <td>9.00894</td>\n",
       "      <td>1.16468</td>\n",
       "      <td>1.36572</td>\n",
       "      <td>1.97740</td>\n",
       "      <td>4.09060</td>\n",
       "      <td>1.07028</td>\n",
       "      <td>2.10820</td>\n",
       "      <td>0.70183</td>\n",
       "      <td>0.15613</td>\n",
       "      <td>0.092051</td>\n",
       "    </tr>\n",
       "    <tr>\n",
       "      <th>13</th>\n",
       "      <td>0.75</td>\n",
       "      <td>3770.04558</td>\n",
       "      <td>-0.90526</td>\n",
       "      <td>4.47694</td>\n",
       "      <td>8.50565</td>\n",
       "      <td>1.27003</td>\n",
       "      <td>1.36535</td>\n",
       "      <td>1.83127</td>\n",
       "      <td>3.88754</td>\n",
       "      <td>0.96786</td>\n",
       "      <td>2.05122</td>\n",
       "      <td>0.72535</td>\n",
       "      <td>0.13501</td>\n",
       "      <td>0.124377</td>\n",
       "    </tr>\n",
       "    <tr>\n",
       "      <th>14</th>\n",
       "      <td>0.80</td>\n",
       "      <td>3883.61666</td>\n",
       "      <td>-0.78336</td>\n",
       "      <td>4.43464</td>\n",
       "      <td>8.02317</td>\n",
       "      <td>1.32974</td>\n",
       "      <td>1.35422</td>\n",
       "      <td>1.73174</td>\n",
       "      <td>3.63930</td>\n",
       "      <td>0.88949</td>\n",
       "      <td>1.90249</td>\n",
       "      <td>0.71667</td>\n",
       "      <td>0.12377</td>\n",
       "      <td>0.164680</td>\n",
       "    </tr>\n",
       "    <tr>\n",
       "      <th>15</th>\n",
       "      <td>0.85</td>\n",
       "      <td>3986.53336</td>\n",
       "      <td>-0.66849</td>\n",
       "      <td>4.39153</td>\n",
       "      <td>7.56981</td>\n",
       "      <td>1.38524</td>\n",
       "      <td>1.34580</td>\n",
       "      <td>1.64064</td>\n",
       "      <td>3.40695</td>\n",
       "      <td>0.81681</td>\n",
       "      <td>1.76129</td>\n",
       "      <td>0.70596</td>\n",
       "      <td>0.11460</td>\n",
       "      <td>0.214541</td>\n",
       "    </tr>\n",
       "    <tr>\n",
       "      <th>16</th>\n",
       "      <td>0.90</td>\n",
       "      <td>4084.24041</td>\n",
       "      <td>-0.55852</td>\n",
       "      <td>4.34846</td>\n",
       "      <td>7.18434</td>\n",
       "      <td>1.38221</td>\n",
       "      <td>1.32541</td>\n",
       "      <td>1.54378</td>\n",
       "      <td>3.25097</td>\n",
       "      <td>0.75232</td>\n",
       "      <td>1.70229</td>\n",
       "      <td>0.68241</td>\n",
       "      <td>0.10931</td>\n",
       "      <td>0.276363</td>\n",
       "    </tr>\n",
       "    <tr>\n",
       "      <th>17</th>\n",
       "      <td>0.95</td>\n",
       "      <td>4181.19979</td>\n",
       "      <td>-0.45160</td>\n",
       "      <td>4.30578</td>\n",
       "      <td>6.81402</td>\n",
       "      <td>1.36747</td>\n",
       "      <td>1.30318</td>\n",
       "      <td>1.44615</td>\n",
       "      <td>3.10433</td>\n",
       "      <td>0.68920</td>\n",
       "      <td>1.65346</td>\n",
       "      <td>0.65532</td>\n",
       "      <td>0.10512</td>\n",
       "      <td>0.353509</td>\n",
       "    </tr>\n",
       "    <tr>\n",
       "      <th>18</th>\n",
       "      <td>1.00</td>\n",
       "      <td>4283.42998</td>\n",
       "      <td>-0.34571</td>\n",
       "      <td>4.26412</td>\n",
       "      <td>6.45180</td>\n",
       "      <td>1.33965</td>\n",
       "      <td>1.27663</td>\n",
       "      <td>1.35325</td>\n",
       "      <td>2.96269</td>\n",
       "      <td>0.63071</td>\n",
       "      <td>1.60485</td>\n",
       "      <td>0.62796</td>\n",
       "      <td>0.10212</td>\n",
       "      <td>0.451118</td>\n",
       "    </tr>\n",
       "    <tr>\n",
       "      <th>19</th>\n",
       "      <td>1.05</td>\n",
       "      <td>4403.30604</td>\n",
       "      <td>-0.23541</td>\n",
       "      <td>4.22298</td>\n",
       "      <td>6.09153</td>\n",
       "      <td>1.28209</td>\n",
       "      <td>1.23758</td>\n",
       "      <td>1.26826</td>\n",
       "      <td>2.83411</td>\n",
       "      <td>0.58176</td>\n",
       "      <td>1.56106</td>\n",
       "      <td>0.60262</td>\n",
       "      <td>0.10067</td>\n",
       "      <td>0.581554</td>\n",
       "    </tr>\n",
       "    <tr>\n",
       "      <th>20</th>\n",
       "      <td>1.10</td>\n",
       "      <td>4599.94851</td>\n",
       "      <td>-0.09179</td>\n",
       "      <td>4.17542</td>\n",
       "      <td>5.58955</td>\n",
       "      <td>1.15277</td>\n",
       "      <td>1.15620</td>\n",
       "      <td>1.12423</td>\n",
       "      <td>2.60306</td>\n",
       "      <td>0.50628</td>\n",
       "      <td>1.47395</td>\n",
       "      <td>0.55921</td>\n",
       "      <td>0.09659</td>\n",
       "      <td>0.809487</td>\n",
       "    </tr>\n",
       "    <tr>\n",
       "      <th>21</th>\n",
       "      <td>1.15</td>\n",
       "      <td>4728.71487</td>\n",
       "      <td>0.01584</td>\n",
       "      <td>4.13510</td>\n",
       "      <td>5.22378</td>\n",
       "      <td>1.04816</td>\n",
       "      <td>1.09265</td>\n",
       "      <td>1.02650</td>\n",
       "      <td>2.43856</td>\n",
       "      <td>0.45950</td>\n",
       "      <td>1.40748</td>\n",
       "      <td>0.52991</td>\n",
       "      <td>0.09266</td>\n",
       "      <td>1.037146</td>\n",
       "    </tr>\n",
       "    <tr>\n",
       "      <th>22</th>\n",
       "      <td>1.20</td>\n",
       "      <td>4853.55265</td>\n",
       "      <td>0.11034</td>\n",
       "      <td>4.10433</td>\n",
       "      <td>4.92036</td>\n",
       "      <td>0.92526</td>\n",
       "      <td>1.03374</td>\n",
       "      <td>0.96894</td>\n",
       "      <td>2.29563</td>\n",
       "      <td>0.43547</td>\n",
       "      <td>1.32195</td>\n",
       "      <td>0.50230</td>\n",
       "      <td>0.08777</td>\n",
       "      <td>1.289258</td>\n",
       "    </tr>\n",
       "  </tbody>\n",
       "</table>\n",
       "</div>"
      ],
      "text/plain": [
       "    mass        teff  log(lum)   log(g)        mv       ub       bv       vi  \\\n",
       "1   0.15  3700.00000  -2.50758  5.13190  13.37927  1.26888  1.59147  2.64917   \n",
       "2   0.20  3700.00000  -2.33043  5.02720  13.33016  1.36078  1.54930  2.81412   \n",
       "3   0.25  3700.00000  -2.17648  4.98251  12.89453  1.33904  1.52182  2.77416   \n",
       "4   0.30  3700.00000  -2.05084  4.94768  12.54398  1.31935  1.50046  2.74262   \n",
       "5   0.35  3700.00000  -1.92132  4.89395  12.20623  1.30716  1.48693  2.72308   \n",
       "6   0.40  3700.00000  -1.81163  4.85620  11.88848  1.28694  1.46607  2.68554   \n",
       "7   0.45  3700.00000  -1.69445  4.80752  11.54081  1.26360  1.44091  2.63802   \n",
       "8   0.50  3700.00000  -1.56913  4.75004  11.15398  1.23620  1.41003  2.57549   \n",
       "9   0.55  3700.00000  -1.43774  4.68802  10.66549  1.18648  1.39344  2.45966   \n",
       "10  0.60  3700.00000  -1.30053  4.62590  10.04176  1.09540  1.37908  2.27114   \n",
       "11  0.65  3700.00000  -1.16126  4.56669   9.45927  1.08084  1.36641  2.09966   \n",
       "12  0.70  3700.00000  -1.03597  4.52040   9.00894  1.16468  1.36572  1.97740   \n",
       "13  0.75  3770.04558  -0.90526  4.47694   8.50565  1.27003  1.36535  1.83127   \n",
       "14  0.80  3883.61666  -0.78336  4.43464   8.02317  1.32974  1.35422  1.73174   \n",
       "15  0.85  3986.53336  -0.66849  4.39153   7.56981  1.38524  1.34580  1.64064   \n",
       "16  0.90  4084.24041  -0.55852  4.34846   7.18434  1.38221  1.32541  1.54378   \n",
       "17  0.95  4181.19979  -0.45160  4.30578   6.81402  1.36747  1.30318  1.44615   \n",
       "18  1.00  4283.42998  -0.34571  4.26412   6.45180  1.33965  1.27663  1.35325   \n",
       "19  1.05  4403.30604  -0.23541  4.22298   6.09153  1.28209  1.23758  1.26826   \n",
       "20  1.10  4599.94851  -0.09179  4.17542   5.58955  1.15277  1.15620  1.12423   \n",
       "21  1.15  4728.71487   0.01584  4.13510   5.22378  1.04816  1.09265  1.02650   \n",
       "22  1.20  4853.55265   0.11034  4.10433   4.92036  0.92526  1.03374  0.96894   \n",
       "\n",
       "         vk       ri       ik       jh       hk       lum  \n",
       "1   4.93210  1.47520  2.27834  0.61765  0.24875  0.003108  \n",
       "2   5.36916  1.52588  2.54990  0.59053  0.26863  0.004673  \n",
       "3   5.31194  1.50521  2.53271  0.59672  0.25890  0.006661  \n",
       "4   5.27127  1.48723  2.52357  0.60496  0.24987  0.008895  \n",
       "5   5.25719  1.47471  2.52899  0.61482  0.24099  0.011986  \n",
       "6   5.20918  1.45224  2.51857  0.62568  0.23073  0.015430  \n",
       "7   5.14922  1.42397  2.50627  0.63994  0.21751  0.020209  \n",
       "8   5.06889  1.38718  2.48878  0.65846  0.20060  0.026969  \n",
       "9   4.87353  1.32990  2.40934  0.66911  0.18871  0.036497  \n",
       "10  4.52312  1.24437  2.24718  0.66983  0.18379  0.050058  \n",
       "11  4.24161  1.15362  2.13695  0.67948  0.17386  0.068983  \n",
       "12  4.09060  1.07028  2.10820  0.70183  0.15613  0.092051  \n",
       "13  3.88754  0.96786  2.05122  0.72535  0.13501  0.124377  \n",
       "14  3.63930  0.88949  1.90249  0.71667  0.12377  0.164680  \n",
       "15  3.40695  0.81681  1.76129  0.70596  0.11460  0.214541  \n",
       "16  3.25097  0.75232  1.70229  0.68241  0.10931  0.276363  \n",
       "17  3.10433  0.68920  1.65346  0.65532  0.10512  0.353509  \n",
       "18  2.96269  0.63071  1.60485  0.62796  0.10212  0.451118  \n",
       "19  2.83411  0.58176  1.56106  0.60262  0.10067  0.581554  \n",
       "20  2.60306  0.50628  1.47395  0.55921  0.09659  0.809487  \n",
       "21  2.43856  0.45950  1.40748  0.52991  0.09266  1.037146  \n",
       "22  2.29563  0.43547  1.32195  0.50230  0.08777  1.289258  "
      ]
     },
     "execution_count": 4,
     "metadata": {},
     "output_type": "execute_result"
    }
   ],
   "source": [
    "data"
   ]
  },
  {
   "cell_type": "code",
   "execution_count": 5,
   "id": "1f894747-b4b4-421d-b775-e81f41bfcaa2",
   "metadata": {},
   "outputs": [],
   "source": [
    "#eq 2\n",
    "ain = 2.7619E-5\n",
    "bin = 3.8095E-9\n",
    "def lin(linP,sdata):\n",
    "    lin = (linP - ain*(sdata['teff']-5700) - bin*(sdata['teff']-5700)**2)*sdata['lum']**0.5\n",
    "    return lin\n",
    "\n",
    "#eq 3\n",
    "aout = 1.3786E-4\n",
    "bout = 1.4286E-9\n",
    "def lout(loutP,sdata):\n",
    "    lout = (loutP - aout*(sdata['teff']-5700) - bout*(sdata['teff']-5700)**2)*sdata['lum']**0.5\n",
    "    return lout"
   ]
  },
  {
   "cell_type": "code",
   "execution_count": 6,
   "id": "5b282ed6-2f79-4dfb-bf15-6abe39bde0de",
   "metadata": {},
   "outputs": [
    {
     "data": {
      "text/plain": [
       "Text(0, 0.5, 'Mass (solar masses)')"
      ]
     },
     "execution_count": 6,
     "metadata": {},
     "output_type": "execute_result"
    },
    {
     "data": {
      "image/png": "[encoded data removed]",
      "text/plain": [
       "<Figure size 640x480 with 1 Axes>"
      ]
     },
     "metadata": {},
     "output_type": "display_data"
    }
   ],
   "source": [
    "x1 = lin(0.72,data)\n",
    "x2 = lout(1.77,data)\n",
    "x3 = lin(0.68,data)\n",
    "x4 = lout(1.95,data)\n",
    "\n",
    "hab, ax = plt.subplots(1,1)\n",
    "\n",
    "ax.fill_betweenx(data['mass'],x1,x2,color='gray')\n",
    "ax.fill_betweenx(data['mass'],x1,x3,color='black')\n",
    "ax.fill_betweenx(data['mass'],x2,x4,color='black')\n",
    "\n",
    "ax.plot(lin(0.46,data),data['mass'],'--',color='gray')\n",
    "ax.plot(lout(2.4,data),data['mass'],'--',color='gray')\n",
    "\n",
    "ax.set_xscale('log')\n",
    "ax.set_yscale('log')\n",
    "\n",
    "ax.set_xlabel('Orbital distance (AU)')\n",
    "ax.set_ylabel('Mass (solar masses)')"
   ]
  },
  {
   "cell_type": "code",
   "execution_count": 7,
   "id": "2677a3bf-5b25-416d-91e7-72e846188cac",
   "metadata": {},
   "outputs": [
    {
     "data": {
      "text/plain": [
       "14102545.467271028"
      ]
     },
     "execution_count": 7,
     "metadata": {},
     "output_type": "execute_result"
    }
   ],
   "source": [
    "#now, make plots like figure 9 from Johnstone(2021)\n",
    "#'Fx' below is the xray flux in the habitable zone\n",
    "#\"The X-ray flux in the habitable zone is defined as the flux at an orbital distance half-way between the moist and maximum \n",
    "#greenhouse limits and these limits are calculated at all ages assuming the stellar properties at 5 Gyr.\"\n",
    "Lxuv = mors.Lxuv(Mstar=1.0, Age=5000.0, Omega=10.0,StarEvo=mors.stellarevo.StarEvo())['Fx']\n",
    "Lxuv"
   ]
  },
  {
   "cell_type": "code",
   "execution_count": 8,
   "id": "68d26583-98db-4a79-bde7-ea76b9b93ff6",
   "metadata": {},
   "outputs": [],
   "source": [
    "omegas = np.linspace(0.25,2.5,len(data['mass']))"
   ]
  },
  {
   "cell_type": "code",
   "execution_count": 9,
   "id": "f62b95d2-093e-4175-a9d4-6f8553ce9b74",
   "metadata": {},
   "outputs": [],
   "source": [
    "fx_arr = np.empty((len(data['mass'])))\n",
    "for i,mass in enumerate(data['mass']):\n",
    "    for omega in omegas:\n",
    "        Fx = mors.Lxuv(Mstar=mass,Age=1000,Omega=omega,StarEvo=mors.stellarevo.StarEvo())['Fx']\n",
    "        fx_arr[i] = Fx\n",
    "        break;"
   ]
  },
  {
   "cell_type": "code",
   "execution_count": 11,
   "id": "d1300de7-d9fe-475e-9261-9e8d2a52d1fc",
   "metadata": {},
   "outputs": [
    {
     "data": {
      "text/plain": [
       "array([135602.78029297, 177786.50530862, 239150.61928423, 377367.34286435,\n",
       "       164130.40503262,  75409.88881352,  53759.75915033,  41364.87450238,\n",
       "        33155.501431  ,  30296.36419821,  27348.48900643,  26664.5483618 ,\n",
       "        27447.33850885,  27576.60574801,  24678.74517896,  21801.80311668,\n",
       "        18336.8619464 ,  15022.89065876,  10929.2831225 ,   7128.20627099,\n",
       "         3654.58125274,   1238.26109429])"
      ]
     },
     "execution_count": 11,
     "metadata": {},
     "output_type": "execute_result"
    }
   ],
   "source": [
    "fx_arr"
   ]
  },
  {
   "cell_type": "code",
   "execution_count": 12,
   "id": "c75ef16e-05eb-4f66-bee6-d429c922d51d",
   "metadata": {},
   "outputs": [
    {
     "data": {
      "text/plain": [
       "(0.1, 10000000000.0)"
      ]
     },
     "execution_count": 12,
     "metadata": {},
     "output_type": "execute_result"
    },
    {
     "data": {
      "image/png": "[encoded data removed]",
      "text/plain": [
       "<Figure size 640x480 with 1 Axes>"
      ]
     },
     "metadata": {},
     "output_type": "display_data"
    }
   ],
   "source": [
    "fig,ax = plt.subplots(1,1)\n",
    "ax.plot(data['mass'],fx_arr,'.')\n",
    "ax.set_yscale('log')\n",
    "ax.set_title(\"Flux in the habitable zone\")\n",
    "ax.set_xlabel(\"Stellar mass\")\n",
    "ax.set_ylabel(\"Flux (erg s^-1 cm^-2)\")\n",
    "ax.set_ylim(ymin=1e-1,ymax=1e10)"
   ]
  },
  {
   "cell_type": "code",
   "execution_count": null,
   "id": "0c0c1d42-9ba9-48b1-9c9a-48ed25744c57",
   "metadata": {},
   "outputs": [],
   "source": []
  },
  {
   "cell_type": "code",
   "execution_count": 13,
   "id": "08a94824-2cd1-42c7-9958-01b85306f295",
   "metadata": {},
   "outputs": [
    {
     "name": "stdout",
     "output_type": "stream",
     "text": [
      "erg s^-1 cm^-2\n"
     ]
    }
   ],
   "source": [
    "star = mors.Star(Mstar=1.0, Omega=10.0)\n",
    "print(star.Units['Fx'])\n"
   ]
  },
  {
   "cell_type": "code",
   "execution_count": 14,
   "id": "be1c09b2-531c-4b1f-9916-08f8c45797a5",
   "metadata": {},
   "outputs": [
    {
     "data": {
      "image/png": "[encoded data removed]",
      "text/plain": [
       "<Figure size 640x480 with 1 Axes>"
      ]
     },
     "metadata": {},
     "output_type": "display_data"
    }
   ],
   "source": [
    "#plot x-ray luminosity in relation to omega\n",
    "#x-ray luminosity / bolometric luminosity on the y axis\n",
    "#omega on the x axis\n",
    "#things to keep constant: age, mass --> 1 Gyr, 1 solar mass\n",
    "omegas  = np.linspace(0.1,10,200)\n",
    "mass = 1.0\n",
    "age = 1000\n",
    "lx_arr = np.empty((len(omegas)))\n",
    "for i,omega in enumerate(omegas):\n",
    "    Lx = mors.Lxuv(Mstar=mass,Age=age,Omega=omega,StarEvo=mors.stellarevo.StarEvo())['Lx']\n",
    "    lx_arr[i] = Lx\n",
    "Lbol = mors.Lbol(Mstar=mass, Age=age) * 3.846E33 #these are the only two parameters it takes, gives lbol in units of stellar luminosity\n",
    "bol_lx = lx_arr/Lbol\n",
    "plt.plot(omegas,bol_lx)\n",
    "plt.title(\"omega (x), lx/lbol (y)\")\n",
    "plt.xlabel(\"omega\")\n",
    "plt.ylabel(\"lx/lbol\")\n",
    "plt.yscale('log')\n",
    "plt.xscale('log')\n",
    "#this doesn't look right. Why?"
   ]
  },
  {
   "cell_type": "code",
   "execution_count": 15,
   "id": "9ab155ee-6abf-4fa5-85da-d6c8e416467b",
   "metadata": {},
   "outputs": [],
   "source": [
    "#plot relation between rotation rate omega and mass\n"
   ]
  },
  {
   "cell_type": "code",
   "execution_count": null,
   "id": "f952a81c-70a1-4c60-a8ce-27e7ba4cf6d2",
   "metadata": {},
   "outputs": [],
   "source": []
  },
  {
   "cell_type": "code",
   "execution_count": 23,
   "id": "9869983c-29ce-495e-acf5-49ac20b83aa1",
   "metadata": {},
   "outputs": [
    {
     "name": "stdout",
     "output_type": "stream",
     "text": [
      "\n",
      "EVOLUTIONARY TRACKS AVAILABLE FOR:-\n",
      "   Age (Myr)\n",
      "   dAge (Myr)\n",
      "   OmegaEnv (OmegaSun =2.67e-6 rad s^-1)\n",
      "   OmegaCore (OmegaSun =2.67e-6 rad s^-1)\n",
      "   Prot (days)\n",
      "   Rstar (Rsun)\n",
      "   tauConv (days)\n",
      "   Ro\n",
      "   Itotal (g cm^2)\n",
      "   Ienv (g cm^2)\n",
      "   Icore (g cm^2)\n",
      "   dItotaldt (g cm^2 s^-1)\n",
      "   dIenvdt (g cm^2 s^-1)\n",
      "   dIcoredt (g cm^2 s^-1)\n",
      "   Rcore (Rsun)\n",
      "   dMcoredt (g s^-1)\n",
      "   Mdot (g s^-1)\n",
      "   Bdip (G)\n",
      "   vEsc (cm s^-1)\n",
      "   torqueEnvMom (erg)\n",
      "   torqueCoreMom (erg)\n",
      "   torqueEnvCG (erg)\n",
      "   torqueCoreCG (erg)\n",
      "   torqueEnvWind (erg)\n",
      "   torqueEnvCE (erg)\n",
      "   torqueCoreCE (erg)\n",
      "   torqueEnvDL (erg)\n",
      "   torqueEnv (erg)\n",
      "   dOmegaEnvdt (OmegaSun Myr^-1)\n",
      "   torqueCore (erg)\n",
      "   dOmegaCoredt (OmegaSun Myr^-1)\n",
      "   Lbol (erg s^-1)\n",
      "   Teff (K)\n",
      "   Lx (erg s^-1)\n",
      "   Fx (erg s^-1 cm^-2)\n",
      "   Rx\n",
      "   Tcor (MK)\n",
      "   Leuv1 (erg s^-1)\n",
      "   Feuv1 (erg s^-1 cm^-2)\n",
      "   Reuv1\n",
      "   Leuv2 (erg s^-1)\n",
      "   Feuv2 (erg s^-1 cm^-2)\n",
      "   Reuv2\n",
      "   Leuv (erg s^-1)\n",
      "   Feuv (erg s^-1 cm^-2)\n",
      "   Reuv\n",
      "   Lly (erg s^-1)\n",
      "   Fly (erg s^-1 cm^-2)\n",
      "   Rly\n",
      "   FxHZ (erg s^-1 cm^-2)\n",
      "   Feuv1HZ (erg s^-1 cm^-2)\n",
      "   Feuv2HZ (erg s^-1 cm^-2)\n",
      "   FeuvHZ (erg s^-1 cm^-2)\n",
      "   FlyHZ (erg s^-1 cm^-2)\n",
      "\n"
     ]
    }
   ],
   "source": [
    "star = mors.Star(Mstar=1.0, Omega=0.75)\n",
    "star.PrintAvailableTracks()"
   ]
  },
  {
   "cell_type": "code",
   "execution_count": 17,
   "id": "783be839-da04-4395-8758-e5711bb17be9",
   "metadata": {},
   "outputs": [
    {
     "data": {
      "image/png": "[encoded data removed]",
      "text/plain": [
       "<Figure size 640x480 with 1 Axes>"
      ]
     },
     "metadata": {},
     "output_type": "display_data"
    }
   ],
   "source": [
    "plt.plot(star.Tracks['Age'], star.Tracks['FxHZ'])\n",
    "plt.yscale('log')\n",
    "plt.xscale('log')\n"
   ]
  },
  {
   "cell_type": "code",
   "execution_count": 18,
   "id": "a6e0bc9c-2cdc-432d-9dcf-cf2169e1eba1",
   "metadata": {},
   "outputs": [],
   "source": [
    "masses = np.linspace(0.1,1.2,20)\n",
    "fxhz_arr = np.empty((len(masses)))\n",
    "\n",
    "\n",
    "for i,mass in enumerate(masses):\n",
    "    star = mors.Star(Mstar=mass, Omega=0.5)\n",
    "    fxhz_arr[i]=star.Lx(1000.0)\n"
   ]
  },
  {
   "cell_type": "code",
   "execution_count": 19,
   "id": "3a35929d-ccee-422a-aa73-937d9edd4f1f",
   "metadata": {},
   "outputs": [
    {
     "data": {
      "text/plain": [
       "1000.0"
      ]
     },
     "execution_count": 19,
     "metadata": {},
     "output_type": "execute_result"
    }
   ],
   "source": [
    "star.Age(1000)"
   ]
  },
  {
   "cell_type": "code",
   "execution_count": 20,
   "id": "7385ee88-5993-4e1a-8563-8f6ca1e09a07",
   "metadata": {},
   "outputs": [
    {
     "data": {
      "text/plain": [
       "Text(0, 0.5, 'Xray flux in HZ')"
      ]
     },
     "execution_count": 20,
     "metadata": {},
     "output_type": "execute_result"
    },
    {
     "data": {
      "image/png": "[encoded data removed]",
      "text/plain": [
       "<Figure size 640x480 with 1 Axes>"
      ]
     },
     "metadata": {},
     "output_type": "display_data"
    }
   ],
   "source": [
    "plt.plot(masses,fxhz_arr)\n",
    "plt.yscale('log')\n",
    "#plt.ylim(10E-2,10E4)\n",
    "plt.title(\"Xray flux in HZ as function of mass\")\n",
    "plt.xlabel(\"Stellar mass\")\n",
    "plt.ylabel('Xray flux in HZ')"
   ]
  },
  {
   "cell_type": "code",
   "execution_count": null,
   "id": "41195135-db12-4b97-b2e3-a877b6d69aab",
   "metadata": {},
   "outputs": [],
   "source": []
  },
  {
   "cell_type": "code",
   "execution_count": null,
   "id": "90d8fcdc-054b-4b29-a93f-a7bdf264aa19",
   "metadata": {},
   "outputs": [],
   "source": []
  }
 ],
 "metadata": {
  "kernelspec": {
   "display_name": "Python 3 (ipykernel)",
   "language": "python",
   "name": "python3"
  },
  "language_info": {
   "codemirror_mode": {
    "name": "ipython",
    "version": 3
   },
   "file_extension": ".py",
   "mimetype": "text/x-python",
   "name": "python",
   "nbconvert_exporter": "python",
   "pygments_lexer": "ipython3",
   "version": "3.11.2"
  }
 },
 "nbformat": 4,
 "nbformat_minor": 5
}
