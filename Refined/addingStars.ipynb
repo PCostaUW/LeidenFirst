{
 "cells": [
  {
   "cell_type": "code",
   "execution_count": 1,
   "id": "c3532c64-e5e9-4cb4-806a-dea04bf2eabd",
   "metadata": {},
   "outputs": [],
   "source": [
    "import Mors as mors\n",
    "import numpy as np\n",
    "import os"
   ]
  },
  {
   "cell_type": "code",
   "execution_count": 2,
   "id": "0e826d7f-870a-46a2-ba6e-128d40ce4f78",
   "metadata": {},
   "outputs": [],
   "source": [
    "masses = np.arange(0.3,1.01,0.01)"
   ]
  },
  {
   "cell_type": "code",
   "execution_count": 3,
   "id": "afe23d3a-1705-41a6-8a35-3dd03045bf16",
   "metadata": {},
   "outputs": [
    {
     "data": {
      "text/plain": [
       "\u001b[0;31mSignature:\u001b[0m \u001b[0mstar\u001b[0m\u001b[0;34m.\u001b[0m\u001b[0mSave\u001b[0m\u001b[0;34m(\u001b[0m\u001b[0mfilename\u001b[0m\u001b[0;34m=\u001b[0m\u001b[0;34m'star.pickle'\u001b[0m\u001b[0;34m)\u001b[0m\u001b[0;34m\u001b[0m\u001b[0;34m\u001b[0m\u001b[0m\n",
       "\u001b[0;31mDocstring:\u001b[0m Takes filename (default is 'star.pickle'), saves cluster to this file using pickle.\n",
       "\u001b[0;31mFile:\u001b[0m      ~/.local/lib/python3.11/site-packages/Mors/star.py\n",
       "\u001b[0;31mType:\u001b[0m      method\n"
      ]
     },
     "metadata": {},
     "output_type": "display_data"
    }
   ],
   "source": [
    "star = mors.Star(Mstar=0.3,percentile=95)\n",
    "star.Save?"
   ]
  },
  {
   "cell_type": "code",
   "execution_count": 6,
   "id": "5a9de47b-c80b-433d-8b9e-7e95154f8688",
   "metadata": {},
   "outputs": [],
   "source": [
    "os.mkdir('rp95')\n"
   ]
  },
  {
   "cell_type": "code",
   "execution_count": 7,
   "id": "e95d5807-0ebb-49f6-9171-6dbc2682b80d",
   "metadata": {},
   "outputs": [
    {
     "name": "stderr",
     "output_type": "stream",
     "text": [
      "/home/pcosta/.local/lib/python3.11/site-packages/Mors/physicalmodel.py:896: RuntimeWarning: invalid value encountered in scalar power\n",
      "  timeCE = params['aCoreEnvelope'] * StarState['OmegaEnv']**params['bCoreEnvelope'] * StarState['Mstar']**params['cCoreEnvelope']\n",
      "/home/pcosta/.local/lib/python3.11/site-packages/Mors/physicalmodel.py:874: RuntimeWarning: invalid value encountered in scalar power\n",
      "  ageDL = params['aDiskLock'] * StarState['OmegaEnv']**params['bDiskLock']\n"
     ]
    }
   ],
   "source": [
    "os.chdir('rp95')\n",
    "for i,mass in enumerate(masses):\n",
    "    star = mors.Star(Mstar = mass, percentile=95.0)\n",
    "    star.Save(filename = 'p95_m'+str(np.round(mass,2))+'.pickle')"
   ]
  },
  {
   "cell_type": "code",
   "execution_count": null,
   "id": "e71ec7eb-dbc3-4cb6-bdf8-87bc3aaac4af",
   "metadata": {},
   "outputs": [],
   "source": []
  }
 ],
 "metadata": {
  "kernelspec": {
   "display_name": "Python 3 (ipykernel)",
   "language": "python",
   "name": "python3"
  },
  "language_info": {
   "codemirror_mode": {
    "name": "ipython",
    "version": 3
   },
   "file_extension": ".py",
   "mimetype": "text/x-python",
   "name": "python",
   "nbconvert_exporter": "python",
   "pygments_lexer": "ipython3",
   "version": "3.11.2"
  }
 },
 "nbformat": 4,
 "nbformat_minor": 5
}
