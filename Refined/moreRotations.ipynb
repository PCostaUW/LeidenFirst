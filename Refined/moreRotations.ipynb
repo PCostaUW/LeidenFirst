{
 "cells": [
  {
   "cell_type": "code",
   "execution_count": 3,
   "id": "4dc8f434-4d09-408e-b534-ef073c00dbfa",
   "metadata": {},
   "outputs": [],
   "source": [
    "import numpy as np\n",
    "import pandas as pd\n",
    "import matplotlib.pyplot as plt\n",
    "import Mors as mors\n",
    "import os\n",
    "import pickle\n",
    "from scipy.interpolate import interp1d\n",
    "import nbimporter\n",
    "import Functions"
   ]
  },
  {
   "cell_type": "code",
   "execution_count": 2,
   "id": "ddea0463-9e25-4a8c-95c8-8dbf950752cd",
   "metadata": {},
   "outputs": [],
   "source": [
    "data = pd.read_csv('RefinedCHZ_data.csv')"
   ]
  },
  {
   "cell_type": "code",
   "execution_count": 5,
   "id": "7e8938c3-d340-4470-90a1-43b195e24820",
   "metadata": {},
   "outputs": [
    {
     "data": {
      "text/plain": [
       "array([0.3 , 0.31, 0.32, 0.33, 0.34, 0.35, 0.36, 0.37, 0.38, 0.39, 0.4 ,\n",
       "       0.41, 0.42, 0.43, 0.44, 0.45, 0.46, 0.47, 0.48, 0.49, 0.5 , 0.51,\n",
       "       0.52, 0.53, 0.54, 0.55, 0.56, 0.57, 0.58, 0.59, 0.6 , 0.61, 0.62,\n",
       "       0.63, 0.64, 0.65, 0.66, 0.67, 0.68, 0.69, 0.7 , 0.71, 0.72, 0.73,\n",
       "       0.74, 0.75, 0.76, 0.77, 0.78, 0.79, 0.8 , 0.81, 0.82, 0.83, 0.84,\n",
       "       0.85, 0.86, 0.87, 0.88, 0.89, 0.9 , 0.91, 0.92, 0.93, 0.94, 0.95,\n",
       "       0.96, 0.97, 0.98, 0.99, 1.  ])"
      ]
     },
     "execution_count": 5,
     "metadata": {},
     "output_type": "execute_result"
    }
   ],
   "source": [
    "masses = np.arange(0.3,1.01,0.01)\n",
    "masses"
   ]
  },
  {
   "cell_type": "code",
   "execution_count": 14,
   "id": "fbb27b63-4138-4d63-a4a3-9585efa245a6",
   "metadata": {},
   "outputs": [
    {
     "data": {
      "text/plain": [
       "'/home/pcosta/LeidenResearch1/Refined'"
      ]
     },
     "execution_count": 14,
     "metadata": {},
     "output_type": "execute_result"
    }
   ],
   "source": [
    "os.chdir('/home/pcosta/LeidenResearch1/Refined')\n",
    "os.getcwd()"
   ]
  },
  {
   "cell_type": "code",
   "execution_count": 15,
   "id": "dd7ec6f4-2e7f-46f9-9115-b50677b15ad5",
   "metadata": {},
   "outputs": [
    {
     "name": "stdout",
     "output_type": "stream",
     "text": [
      "Current directory: /home/pcosta/LeidenResearch1/Refined\n",
      "Current directory: /home/pcosta/LeidenResearch1/Refined\n",
      "Current directory: /home/pcosta/LeidenResearch1/Refined\n",
      "Current directory: /home/pcosta/LeidenResearch1/Refined\n",
      "Current directory: /home/pcosta/LeidenResearch1/Refined\n",
      "Current directory: /home/pcosta/LeidenResearch1/Refined\n",
      "Current directory: /home/pcosta/LeidenResearch1/Refined\n",
      "Current directory: /home/pcosta/LeidenResearch1/Refined\n",
      "Current directory: /home/pcosta/LeidenResearch1/Refined\n",
      "Current directory: /home/pcosta/LeidenResearch1/Refined\n",
      "Current directory: /home/pcosta/LeidenResearch1/Refined\n"
     ]
    }
   ],
   "source": [
    "#I am making a finer mass sample, will need to calc CHZ for them\n",
    "percs = np.arange(25,80,5)\n",
    "masses = np.arange(0.3,1.01,0.01)\n",
    "for perc in percs:\n",
    "    folder_path = f'rp{perc}'\n",
    "    os.chdir('/home/pcosta/LeidenResearch1/Refined')\n",
    "    print(\"Current directory:\", os.getcwd())\n",
    "    os.makedirs(folder_path)\n",
    "    #print('made')\n",
    "    os.chdir(folder_path)\n",
    "    for mass in masses: \n",
    "        star = mors.Star(Mstar = mass, percentile=perc)\n",
    "        star.Save(filename=f'p{perc}_m'+str(round(mass,2))+'.pickle')\n",
    "    os.chdir('..')"
   ]
  },
  {
   "cell_type": "code",
   "execution_count": null,
   "id": "4e740dc0-04d4-4b81-b439-1bb890b02d1a",
   "metadata": {},
   "outputs": [],
   "source": []
  },
  {
   "cell_type": "code",
   "execution_count": null,
   "id": "6e15ccda-e10a-4401-ba44-93924a59587f",
   "metadata": {},
   "outputs": [],
   "source": [
    "percs = np.arange(25,80,5)\n",
    "for perc in percs:\n",
    "    folder_path = f'rp{perc}'\n",
    "    print(\"Current directory:\", os.getcwd())\n",
    "    os.makedirs(folder_path)\n",
    "    print('made')\n",
    "    os.chdir(folder_path)\n",
    "    for i,mass in enumerate(data['Mass']): \n",
    "        star = mors.Star(Mstar = mass, percentile=perc)\n",
    "        star.Save(filename=f'p{perc}_m'+str(round(mass,1))+'.pickle')\n",
    "    os.chdir('..')\n",
    "        "
   ]
  },
  {
   "cell_type": "code",
   "execution_count": null,
   "id": "44c7c22c-9ea2-4eb7-8fe1-b71b6e1b8498",
   "metadata": {},
   "outputs": [],
   "source": [
    "# Assuming you have:\n",
    "# - ages (1D array)\n",
    "# - stellar_masses (1D array)\n",
    "# - remaining_mass (2D array) for a chosen rotation period\n",
    "\n",
    "ages = np.linspace(10,5000,10000)\n",
    "masses = all_data['Mass']\n",
    "\n",
    "# Create contour plot\n",
    "fig, ax = plt.subplots()\n",
    "contour = ax.contour(ages, masses, remaining_mass, levels=[0.05])  # 5% contour\n",
    "\n",
    "# Extract contour line data\n",
    "contour_paths = contour.collections[0].get_paths()\n",
    "\n",
    "# Store (age, stellar mass) points from the contour\n",
    "contour_points = []\n",
    "for path in contour_paths:\n",
    "    contour_points.extend(path.vertices)  # Extract x, y coordinates\n",
    "\n",
    "contour_points = np.array(contour_points)\n",
    "ages_contour = contour_points[:, 0]\n",
    "stellar_mass_contour = contour_points[:, 1]\n",
    "\n",
    "# Fit a curve (e.g., polynomial or spline) to the contour line\n",
    "fit_curve = np.polyfit(ages_contour, stellar_mass_contour, deg=2)  # Quadratic fit\n",
    "fit_equation = np.poly1d(fit_curve)  # Convert to function\n",
    "\n",
    "# Plot the extracted contour line\n",
    "ax.plot(ages_contour, stellar_mass_contour, 'r-', label=\"5% Mass Remaining\")\n",
    "ax.set_xlabel(\"Age (Gyr)\")\n",
    "ax.set_ylabel(\"Stellar Mass (Msun)\")\n",
    "ax.legend()\n",
    "plt.show()\n",
    "\n",
    "print(\"Equation of 5% contour line:\", fit_equation)\n"
   ]
  },
  {
   "cell_type": "code",
   "execution_count": null,
   "id": "355d8b76-6584-4502-89bf-205c19f97183",
   "metadata": {},
   "outputs": [],
   "source": []
  }
 ],
 "metadata": {
  "kernelspec": {
   "display_name": "Python 3 (ipykernel)",
   "language": "python",
   "name": "python3"
  },
  "language_info": {
   "codemirror_mode": {
    "name": "ipython",
    "version": 3
   },
   "file_extension": ".py",
   "mimetype": "text/x-python",
   "name": "python",
   "nbconvert_exporter": "python",
   "pygments_lexer": "ipython3",
   "version": "3.11.2"
  }
 },
 "nbformat": 4,
 "nbformat_minor": 5
}
