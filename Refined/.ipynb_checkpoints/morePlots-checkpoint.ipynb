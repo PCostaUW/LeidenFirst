{
 "cells": [
  {
   "cell_type": "code",
   "execution_count": 3,
   "id": "4dc8f434-4d09-408e-b534-ef073c00dbfa",
   "metadata": {},
   "outputs": [],
   "source": [
    "import numpy as np\n",
    "import pandas as pd\n",
    "import matplotlib.pyplot as plt\n",
    "import Mors as mors\n",
    "import os\n",
    "import pickle\n",
    "from scipy.interpolate import interp1d\n",
    "import nbimporter\n",
    "import Functions"
   ]
  },
  {
   "cell_type": "code",
   "execution_count": 2,
   "id": "ddea0463-9e25-4a8c-95c8-8dbf950752cd",
   "metadata": {},
   "outputs": [],
   "source": [
    "data = pd.read_csv('RefinedCHZ_data.csv')"
   ]
  },
  {
   "cell_type": "code",
   "execution_count": 5,
   "id": "7e8938c3-d340-4470-90a1-43b195e24820",
   "metadata": {},
   "outputs": [
    {
     "data": {
      "text/plain": [
       "array([0.3 , 0.31, 0.32, 0.33, 0.34, 0.35, 0.36, 0.37, 0.38, 0.39, 0.4 ,\n",
       "       0.41, 0.42, 0.43, 0.44, 0.45, 0.46, 0.47, 0.48, 0.49, 0.5 , 0.51,\n",
       "       0.52, 0.53, 0.54, 0.55, 0.56, 0.57, 0.58, 0.59, 0.6 , 0.61, 0.62,\n",
       "       0.63, 0.64, 0.65, 0.66, 0.67, 0.68, 0.69, 0.7 , 0.71, 0.72, 0.73,\n",
       "       0.74, 0.75, 0.76, 0.77, 0.78, 0.79, 0.8 , 0.81, 0.82, 0.83, 0.84,\n",
       "       0.85, 0.86, 0.87, 0.88, 0.89, 0.9 , 0.91, 0.92, 0.93, 0.94, 0.95,\n",
       "       0.96, 0.97, 0.98, 0.99, 1.  ])"
      ]
     },
     "execution_count": 5,
     "metadata": {},
     "output_type": "execute_result"
    }
   ],
   "source": [
    "masses = np.arange(0.3,1.01,0.01)\n",
    "masses"
   ]
  },
  {
   "cell_type": "code",
   "execution_count": 8,
   "id": "dd7ec6f4-2e7f-46f9-9115-b50677b15ad5",
   "metadata": {},
   "outputs": [
    {
     "name": "stdout",
     "output_type": "stream",
     "text": [
      "Current directory: /home/pcosta/.local/share/Trash/files/rp25.18\n"
     ]
    },
    {
     "ename": "KeyboardInterrupt",
     "evalue": "",
     "output_type": "error",
     "traceback": [
      "\u001b[0;31m---------------------------------------------------------------------------\u001b[0m",
      "\u001b[0;31mKeyboardInterrupt\u001b[0m                         Traceback (most recent call last)",
      "Cell \u001b[0;32mIn [8], line 11\u001b[0m\n\u001b[1;32m      9\u001b[0m os\u001b[38;5;241m.\u001b[39mchdir(folder_path)\n\u001b[1;32m     10\u001b[0m \u001b[38;5;28;01mfor\u001b[39;00m mass \u001b[38;5;129;01min\u001b[39;00m masses: \n\u001b[0;32m---> 11\u001b[0m     star \u001b[38;5;241m=\u001b[39m \u001b[43mmors\u001b[49m\u001b[38;5;241;43m.\u001b[39;49m\u001b[43mStar\u001b[49m\u001b[43m(\u001b[49m\u001b[43mMstar\u001b[49m\u001b[43m \u001b[49m\u001b[38;5;241;43m=\u001b[39;49m\u001b[43m \u001b[49m\u001b[43mmass\u001b[49m\u001b[43m,\u001b[49m\u001b[43m \u001b[49m\u001b[43mpercentile\u001b[49m\u001b[38;5;241;43m=\u001b[39;49m\u001b[43mperc\u001b[49m\u001b[43m)\u001b[49m\n\u001b[1;32m     12\u001b[0m     star\u001b[38;5;241m.\u001b[39mSave(filename\u001b[38;5;241m=\u001b[39m\u001b[38;5;124mf\u001b[39m\u001b[38;5;124m'\u001b[39m\u001b[38;5;124mp\u001b[39m\u001b[38;5;132;01m{\u001b[39;00mperc\u001b[38;5;132;01m}\u001b[39;00m\u001b[38;5;124m_m\u001b[39m\u001b[38;5;124m'\u001b[39m\u001b[38;5;241m+\u001b[39m\u001b[38;5;28mstr\u001b[39m(\u001b[38;5;28mround\u001b[39m(mass,\u001b[38;5;241m2\u001b[39m))\u001b[38;5;241m+\u001b[39m\u001b[38;5;124m'\u001b[39m\u001b[38;5;124m.pickle\u001b[39m\u001b[38;5;124m'\u001b[39m)\n\u001b[1;32m     13\u001b[0m os\u001b[38;5;241m.\u001b[39mchdir(\u001b[38;5;124m'\u001b[39m\u001b[38;5;124m..\u001b[39m\u001b[38;5;124m'\u001b[39m)\n",
      "File \u001b[0;32m~/.local/lib/python3.11/site-packages/Mors/star.py:79\u001b[0m, in \u001b[0;36mStar.__init__\u001b[0;34m(self, Mstar, Age, percentile, Omega, Prot, OmegaEnv, OmegaCore, AgesOut, starEvoDir, evoModels, params)\u001b[0m\n\u001b[1;32m     75\u001b[0m _CheckInputMstar(Mstar)\n\u001b[1;32m     77\u001b[0m \u001b[38;5;66;03m# Make sure Omega, OmegaEnv, and OmegaCore are well set\u001b[39;00m\n\u001b[1;32m     78\u001b[0m \u001b[38;5;66;03m# (if Omega is set, OmegaEnv and OmegaCore will both be set to that value)\u001b[39;00m\n\u001b[0;32m---> 79\u001b[0m Omega , OmegaEnv , OmegaCore \u001b[38;5;241m=\u001b[39m \u001b[43m_InputRotation\u001b[49m\u001b[43m(\u001b[49m\u001b[43mMstar\u001b[49m\u001b[43m,\u001b[49m\u001b[43mAge\u001b[49m\u001b[43m,\u001b[49m\u001b[43mOmega\u001b[49m\u001b[43m,\u001b[49m\u001b[43mOmegaEnv\u001b[49m\u001b[43m,\u001b[49m\u001b[43mOmegaCore\u001b[49m\u001b[43m,\u001b[49m\u001b[43mProt\u001b[49m\u001b[43m,\u001b[49m\u001b[43mpercentile\u001b[49m\u001b[43m,\u001b[49m\u001b[43mparams\u001b[49m\u001b[43m)\u001b[49m\n\u001b[1;32m     81\u001b[0m \u001b[38;5;66;03m# Set parameters\u001b[39;00m\n\u001b[1;32m     82\u001b[0m \u001b[38;5;28mself\u001b[39m\u001b[38;5;241m.\u001b[39mparams \u001b[38;5;241m=\u001b[39m params\n",
      "File \u001b[0;32m~/.local/lib/python3.11/site-packages/Mors/star.py:458\u001b[0m, in \u001b[0;36m_InputRotation\u001b[0;34m(Mstar, Age, Omega, OmegaEnv, OmegaCore, Prot, percentile, params)\u001b[0m\n\u001b[1;32m    456\u001b[0m \u001b[38;5;66;03m# If percentile was set, get Omega\u001b[39;00m\n\u001b[1;32m    457\u001b[0m \u001b[38;5;28;01mif\u001b[39;00m \u001b[38;5;129;01mnot\u001b[39;00m percentile \u001b[38;5;129;01mis\u001b[39;00m \u001b[38;5;28;01mNone\u001b[39;00m:\n\u001b[0;32m--> 458\u001b[0m     Omega \u001b[38;5;241m=\u001b[39m \u001b[43mPercentile\u001b[49m\u001b[43m(\u001b[49m\u001b[43mMstar\u001b[49m\u001b[38;5;241;43m=\u001b[39;49m\u001b[43mMstar\u001b[49m\u001b[43m,\u001b[49m\u001b[43mpercentile\u001b[49m\u001b[38;5;241;43m=\u001b[39;49m\u001b[43mpercentile\u001b[49m\u001b[43m,\u001b[49m\u001b[43mparams\u001b[49m\u001b[38;5;241;43m=\u001b[39;49m\u001b[43mparams\u001b[49m\u001b[43m)\u001b[49m\n\u001b[1;32m    460\u001b[0m \u001b[38;5;66;03m# Make sure if Age is set that OmegaCore is not set\u001b[39;00m\n\u001b[1;32m    461\u001b[0m \u001b[38;5;28;01mif\u001b[39;00m ( \u001b[38;5;129;01mnot\u001b[39;00m Age \u001b[38;5;129;01mis\u001b[39;00m \u001b[38;5;28;01mNone\u001b[39;00m ) \u001b[38;5;129;01mand\u001b[39;00m ( \u001b[38;5;129;01mnot\u001b[39;00m OmegaCore \u001b[38;5;129;01mis\u001b[39;00m \u001b[38;5;28;01mNone\u001b[39;00m ):\n",
      "File \u001b[0;32m~/.local/lib/python3.11/site-packages/Mors/star.py:552\u001b[0m, in \u001b[0;36mPercentile\u001b[0;34m(Mstar, Omega, Prot, percentile, MstarDist, OmegaDist, ProtDist, params)\u001b[0m\n\u001b[1;32m    550\u001b[0m \u001b[38;5;66;03m# Setup the distribution\u001b[39;00m\n\u001b[1;32m    551\u001b[0m \u001b[38;5;28;01mif\u001b[39;00m MstarDist \u001b[38;5;129;01mis\u001b[39;00m \u001b[38;5;28;01mNone\u001b[39;00m:\n\u001b[0;32m--> 552\u001b[0m     MstarDist , OmegaDist \u001b[38;5;241m=\u001b[39m \u001b[43mmisc\u001b[49m\u001b[38;5;241;43m.\u001b[39;49m\u001b[43mModelCluster\u001b[49m\u001b[43m(\u001b[49m\u001b[43m)\u001b[49m\n\u001b[1;32m    553\u001b[0m \u001b[38;5;28;01melse\u001b[39;00m:\n\u001b[1;32m    554\u001b[0m     \n\u001b[1;32m    555\u001b[0m     \u001b[38;5;66;03m# Check that one of OmegaDist and ProtDist are set\u001b[39;00m\n\u001b[1;32m    556\u001b[0m     \u001b[38;5;28;01mif\u001b[39;00m ( OmegaDist \u001b[38;5;129;01mis\u001b[39;00m \u001b[38;5;28;01mNone\u001b[39;00m ) \u001b[38;5;129;01mand\u001b[39;00m ( ProtDist \u001b[38;5;129;01mis\u001b[39;00m \u001b[38;5;28;01mNone\u001b[39;00m ):\n",
      "File \u001b[0;32m~/.local/lib/python3.11/site-packages/Mors/miscellaneous.py:121\u001b[0m, in \u001b[0;36mModelCluster\u001b[0;34m()\u001b[0m\n\u001b[1;32m    118\u001b[0m \u001b[38;5;250m\u001b[39m\u001b[38;5;124;03m\"\"\"Reads the model cluster used in Johnstone et al. (2020).\"\"\"\u001b[39;00m\n\u001b[1;32m    120\u001b[0m \u001b[38;5;66;03m# Get directory where package is installed\u001b[39;00m\n\u001b[0;32m--> 121\u001b[0m packageDir \u001b[38;5;241m=\u001b[39m \u001b[43m_GetPackageDirectory\u001b[49m\u001b[43m(\u001b[49m\u001b[43m)\u001b[49m\n\u001b[1;32m    123\u001b[0m \u001b[38;5;66;03m# Set filename including path\u001b[39;00m\n\u001b[1;32m    124\u001b[0m filename \u001b[38;5;241m=\u001b[39m packageDir \u001b[38;5;241m+\u001b[39m \u001b[38;5;124m\"\u001b[39m\u001b[38;5;124mModelDistribution.dat\u001b[39m\u001b[38;5;124m\"\u001b[39m\n",
      "File \u001b[0;32m~/.local/lib/python3.11/site-packages/Mors/miscellaneous.py:56\u001b[0m, in \u001b[0;36m_GetPackageDirectory\u001b[0;34m()\u001b[0m\n\u001b[1;32m     53\u001b[0m \u001b[38;5;250m\u001b[39m\u001b[38;5;124;03m\"\"\"Gets path to main directory where the code is installed.\"\"\"\u001b[39;00m\n\u001b[1;32m     55\u001b[0m \u001b[38;5;66;03m# Get information about function\u001b[39;00m\n\u001b[0;32m---> 56\u001b[0m frame \u001b[38;5;241m=\u001b[39m \u001b[43minspect\u001b[49m\u001b[38;5;241;43m.\u001b[39;49m\u001b[43mstack\u001b[49m\u001b[43m(\u001b[49m\u001b[43m)\u001b[49m[\u001b[38;5;241m0\u001b[39m]\n\u001b[1;32m     58\u001b[0m \u001b[38;5;66;03m# Get name of this file\u001b[39;00m\n\u001b[1;32m     59\u001b[0m filename \u001b[38;5;241m=\u001b[39m frame\u001b[38;5;241m.\u001b[39mfilename\n",
      "File \u001b[0;32m/usr/lib/python3.11/inspect.py:1755\u001b[0m, in \u001b[0;36mstack\u001b[0;34m(context)\u001b[0m\n\u001b[1;32m   1753\u001b[0m \u001b[38;5;28;01mdef\u001b[39;00m \u001b[38;5;21mstack\u001b[39m(context\u001b[38;5;241m=\u001b[39m\u001b[38;5;241m1\u001b[39m):\n\u001b[1;32m   1754\u001b[0m \u001b[38;5;250m    \u001b[39m\u001b[38;5;124;03m\"\"\"Return a list of records for the stack above the caller's frame.\"\"\"\u001b[39;00m\n\u001b[0;32m-> 1755\u001b[0m     \u001b[38;5;28;01mreturn\u001b[39;00m \u001b[43mgetouterframes\u001b[49m\u001b[43m(\u001b[49m\u001b[43msys\u001b[49m\u001b[38;5;241;43m.\u001b[39;49m\u001b[43m_getframe\u001b[49m\u001b[43m(\u001b[49m\u001b[38;5;241;43m1\u001b[39;49m\u001b[43m)\u001b[49m\u001b[43m,\u001b[49m\u001b[43m \u001b[49m\u001b[43mcontext\u001b[49m\u001b[43m)\u001b[49m\n",
      "File \u001b[0;32m/usr/lib/python3.11/inspect.py:1730\u001b[0m, in \u001b[0;36mgetouterframes\u001b[0;34m(frame, context)\u001b[0m\n\u001b[1;32m   1728\u001b[0m framelist \u001b[38;5;241m=\u001b[39m []\n\u001b[1;32m   1729\u001b[0m \u001b[38;5;28;01mwhile\u001b[39;00m frame:\n\u001b[0;32m-> 1730\u001b[0m     traceback_info \u001b[38;5;241m=\u001b[39m \u001b[43mgetframeinfo\u001b[49m\u001b[43m(\u001b[49m\u001b[43mframe\u001b[49m\u001b[43m,\u001b[49m\u001b[43m \u001b[49m\u001b[43mcontext\u001b[49m\u001b[43m)\u001b[49m\n\u001b[1;32m   1731\u001b[0m     frameinfo \u001b[38;5;241m=\u001b[39m (frame,) \u001b[38;5;241m+\u001b[39m traceback_info\n\u001b[1;32m   1732\u001b[0m     framelist\u001b[38;5;241m.\u001b[39mappend(FrameInfo(\u001b[38;5;241m*\u001b[39mframeinfo, positions\u001b[38;5;241m=\u001b[39mtraceback_info\u001b[38;5;241m.\u001b[39mpositions))\n",
      "File \u001b[0;32m/usr/lib/python3.11/inspect.py:1688\u001b[0m, in \u001b[0;36mgetframeinfo\u001b[0;34m(frame, context)\u001b[0m\n\u001b[1;32m   1685\u001b[0m \u001b[38;5;28;01mif\u001b[39;00m \u001b[38;5;129;01mnot\u001b[39;00m isframe(frame):\n\u001b[1;32m   1686\u001b[0m     \u001b[38;5;28;01mraise\u001b[39;00m \u001b[38;5;167;01mTypeError\u001b[39;00m(\u001b[38;5;124m'\u001b[39m\u001b[38;5;132;01m{!r}\u001b[39;00m\u001b[38;5;124m is not a frame or traceback object\u001b[39m\u001b[38;5;124m'\u001b[39m\u001b[38;5;241m.\u001b[39mformat(frame))\n\u001b[0;32m-> 1688\u001b[0m filename \u001b[38;5;241m=\u001b[39m \u001b[43mgetsourcefile\u001b[49m\u001b[43m(\u001b[49m\u001b[43mframe\u001b[49m\u001b[43m)\u001b[49m \u001b[38;5;129;01mor\u001b[39;00m getfile(frame)\n\u001b[1;32m   1689\u001b[0m \u001b[38;5;28;01mif\u001b[39;00m context \u001b[38;5;241m>\u001b[39m \u001b[38;5;241m0\u001b[39m:\n\u001b[1;32m   1690\u001b[0m     start \u001b[38;5;241m=\u001b[39m lineno \u001b[38;5;241m-\u001b[39m \u001b[38;5;241m1\u001b[39m \u001b[38;5;241m-\u001b[39m context\u001b[38;5;241m/\u001b[39m\u001b[38;5;241m/\u001b[39m\u001b[38;5;241m2\u001b[39m\n",
      "File \u001b[0;32m/usr/lib/python3.11/inspect.py:952\u001b[0m, in \u001b[0;36mgetsourcefile\u001b[0;34m(object)\u001b[0m\n\u001b[1;32m    950\u001b[0m     \u001b[38;5;28;01mreturn\u001b[39;00m filename\n\u001b[1;32m    951\u001b[0m \u001b[38;5;66;03m# only return a non-existent filename if the module has a PEP 302 loader\u001b[39;00m\n\u001b[0;32m--> 952\u001b[0m module \u001b[38;5;241m=\u001b[39m \u001b[43mgetmodule\u001b[49m\u001b[43m(\u001b[49m\u001b[38;5;28;43mobject\u001b[39;49m\u001b[43m,\u001b[49m\u001b[43m \u001b[49m\u001b[43mfilename\u001b[49m\u001b[43m)\u001b[49m\n\u001b[1;32m    953\u001b[0m \u001b[38;5;28;01mif\u001b[39;00m \u001b[38;5;28mgetattr\u001b[39m(module, \u001b[38;5;124m'\u001b[39m\u001b[38;5;124m__loader__\u001b[39m\u001b[38;5;124m'\u001b[39m, \u001b[38;5;28;01mNone\u001b[39;00m) \u001b[38;5;129;01mis\u001b[39;00m \u001b[38;5;129;01mnot\u001b[39;00m \u001b[38;5;28;01mNone\u001b[39;00m:\n\u001b[1;32m    954\u001b[0m     \u001b[38;5;28;01mreturn\u001b[39;00m filename\n",
      "File \u001b[0;32m/usr/lib/python3.11/inspect.py:992\u001b[0m, in \u001b[0;36mgetmodule\u001b[0;34m(object, _filename)\u001b[0m\n\u001b[1;32m    989\u001b[0m \u001b[38;5;66;03m# Update the filename to module name cache and check yet again\u001b[39;00m\n\u001b[1;32m    990\u001b[0m \u001b[38;5;66;03m# Copy sys.modules in order to cope with changes while iterating\u001b[39;00m\n\u001b[1;32m    991\u001b[0m \u001b[38;5;28;01mfor\u001b[39;00m modname, module \u001b[38;5;129;01min\u001b[39;00m sys\u001b[38;5;241m.\u001b[39mmodules\u001b[38;5;241m.\u001b[39mcopy()\u001b[38;5;241m.\u001b[39mitems():\n\u001b[0;32m--> 992\u001b[0m     \u001b[38;5;28;01mif\u001b[39;00m \u001b[43mismodule\u001b[49m\u001b[43m(\u001b[49m\u001b[43mmodule\u001b[49m\u001b[43m)\u001b[49m \u001b[38;5;129;01mand\u001b[39;00m \u001b[38;5;28mhasattr\u001b[39m(module, \u001b[38;5;124m'\u001b[39m\u001b[38;5;124m__file__\u001b[39m\u001b[38;5;124m'\u001b[39m):\n\u001b[1;32m    993\u001b[0m         f \u001b[38;5;241m=\u001b[39m module\u001b[38;5;241m.\u001b[39m\u001b[38;5;18m__file__\u001b[39m\n\u001b[1;32m    994\u001b[0m         \u001b[38;5;28;01mif\u001b[39;00m f \u001b[38;5;241m==\u001b[39m _filesbymodname\u001b[38;5;241m.\u001b[39mget(modname, \u001b[38;5;28;01mNone\u001b[39;00m):\n\u001b[1;32m    995\u001b[0m             \u001b[38;5;66;03m# Have already mapped this module, so skip it\u001b[39;00m\n",
      "File \u001b[0;32m/usr/lib/python3.11/inspect.py:283\u001b[0m, in \u001b[0;36mismodule\u001b[0;34m(object)\u001b[0m\n\u001b[1;32m    279\u001b[0m     \u001b[38;5;28;01mreturn\u001b[39;00m return_value\n\u001b[1;32m    282\u001b[0m \u001b[38;5;66;03m# ----------------------------------------------------------- type-checking\u001b[39;00m\n\u001b[0;32m--> 283\u001b[0m \u001b[38;5;28;01mdef\u001b[39;00m \u001b[38;5;21mismodule\u001b[39m(\u001b[38;5;28mobject\u001b[39m):\n\u001b[1;32m    284\u001b[0m \u001b[38;5;250m    \u001b[39m\u001b[38;5;124;03m\"\"\"Return true if the object is a module.\u001b[39;00m\n\u001b[1;32m    285\u001b[0m \n\u001b[1;32m    286\u001b[0m \u001b[38;5;124;03m    Module objects provide these attributes:\u001b[39;00m\n\u001b[1;32m    287\u001b[0m \u001b[38;5;124;03m        __cached__      pathname to byte compiled file\u001b[39;00m\n\u001b[1;32m    288\u001b[0m \u001b[38;5;124;03m        __doc__         documentation string\u001b[39;00m\n\u001b[1;32m    289\u001b[0m \u001b[38;5;124;03m        __file__        filename (missing for built-in modules)\"\"\"\u001b[39;00m\n\u001b[1;32m    290\u001b[0m     \u001b[38;5;28;01mreturn\u001b[39;00m \u001b[38;5;28misinstance\u001b[39m(\u001b[38;5;28mobject\u001b[39m, types\u001b[38;5;241m.\u001b[39mModuleType)\n",
      "\u001b[0;31mKeyboardInterrupt\u001b[0m: "
     ]
    }
   ],
   "source": [
    "#I am making a finer mass sample, will need to calc CHZ for them\n",
    "percs = np.arange(25,80,5)\n",
    "masses = np.arange(0.3,1.01,0.01)\n",
    "for perc in percs:\n",
    "    folder_path = f'rp{perc}'\n",
    "    print(\"Current directory:\", os.getcwd())\n",
    "    os.makedirs(folder_path)\n",
    "    #print('made')\n",
    "    os.chdir(folder_path)\n",
    "    for mass in masses: \n",
    "        star = mors.Star(Mstar = mass, percentile=perc)\n",
    "        star.Save(filename=f'p{perc}_m'+str(round(mass,2))+'.pickle')\n",
    "    os.chdir('..')"
   ]
  },
  {
   "cell_type": "code",
   "execution_count": null,
   "id": "6e15ccda-e10a-4401-ba44-93924a59587f",
   "metadata": {},
   "outputs": [],
   "source": [
    "percs = np.arange(25,80,5)\n",
    "for perc in percs:\n",
    "    folder_path = f'rp{perc}'\n",
    "    print(\"Current directory:\", os.getcwd())\n",
    "    os.makedirs(folder_path)\n",
    "    print('made')\n",
    "    os.chdir(folder_path)\n",
    "    for i,mass in enumerate(data['Mass']): \n",
    "        star = mors.Star(Mstar = mass, percentile=perc)\n",
    "        star.Save(filename=f'p{perc}_m'+str(round(mass,1))+'.pickle')\n",
    "    os.chdir('..')\n",
    "        "
   ]
  },
  {
   "cell_type": "code",
   "execution_count": null,
   "id": "44c7c22c-9ea2-4eb7-8fe1-b71b6e1b8498",
   "metadata": {},
   "outputs": [],
   "source": [
    "# Assuming you have:\n",
    "# - ages (1D array)\n",
    "# - stellar_masses (1D array)\n",
    "# - remaining_mass (2D array) for a chosen rotation period\n",
    "\n",
    "ages = np.linspace(10,5000,10000)\n",
    "masses = all_data['Mass']\n",
    "\n",
    "# Create contour plot\n",
    "fig, ax = plt.subplots()\n",
    "contour = ax.contour(ages, masses, remaining_mass, levels=[0.05])  # 5% contour\n",
    "\n",
    "# Extract contour line data\n",
    "contour_paths = contour.collections[0].get_paths()\n",
    "\n",
    "# Store (age, stellar mass) points from the contour\n",
    "contour_points = []\n",
    "for path in contour_paths:\n",
    "    contour_points.extend(path.vertices)  # Extract x, y coordinates\n",
    "\n",
    "contour_points = np.array(contour_points)\n",
    "ages_contour = contour_points[:, 0]\n",
    "stellar_mass_contour = contour_points[:, 1]\n",
    "\n",
    "# Fit a curve (e.g., polynomial or spline) to the contour line\n",
    "fit_curve = np.polyfit(ages_contour, stellar_mass_contour, deg=2)  # Quadratic fit\n",
    "fit_equation = np.poly1d(fit_curve)  # Convert to function\n",
    "\n",
    "# Plot the extracted contour line\n",
    "ax.plot(ages_contour, stellar_mass_contour, 'r-', label=\"5% Mass Remaining\")\n",
    "ax.set_xlabel(\"Age (Gyr)\")\n",
    "ax.set_ylabel(\"Stellar Mass (Msun)\")\n",
    "ax.legend()\n",
    "plt.show()\n",
    "\n",
    "print(\"Equation of 5% contour line:\", fit_equation)\n"
   ]
  },
  {
   "cell_type": "code",
   "execution_count": null,
   "id": "355d8b76-6584-4502-89bf-205c19f97183",
   "metadata": {},
   "outputs": [],
   "source": []
  }
 ],
 "metadata": {
  "kernelspec": {
   "display_name": "Python 3 (ipykernel)",
   "language": "python",
   "name": "python3"
  },
  "language_info": {
   "codemirror_mode": {
    "name": "ipython",
    "version": 3
   },
   "file_extension": ".py",
   "mimetype": "text/x-python",
   "name": "python",
   "nbconvert_exporter": "python",
   "pygments_lexer": "ipython3",
   "version": "3.11.2"
  }
 },
 "nbformat": 4,
 "nbformat_minor": 5
}
